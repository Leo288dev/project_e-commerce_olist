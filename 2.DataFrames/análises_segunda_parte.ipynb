{
 "cells": [
  {
   "cell_type": "code",
   "execution_count": 2,
   "metadata": {},
   "outputs": [
    {
     "name": "stdout",
     "output_type": "stream",
     "text": [
      "Biblioteca importada com sucesso !!!\n"
     ]
    }
   ],
   "source": [
    "import pandas as pd \n",
    "\n",
    "print('Biblioteca importada com sucesso !!!')"
   ]
  },
  {
   "cell_type": "code",
   "execution_count": 3,
   "metadata": {},
   "outputs": [
    {
     "name": "stdout",
     "output_type": "stream",
     "text": [
      "Data frames carregados com sucesso !!!\n"
     ]
    }
   ],
   "source": [
    "df_orders = pd.read_csv(\"C:\\\\Users\\\\leopo\\\\OneDrive\\\\Documentos\\\\PROJETOS TI\\\\PROJETOS_DADOS\\\\olist\\\\brazilian-ecommerce\\\\olist_orders_dataset.csv\")\n",
    "df_geolocation = pd.read_csv(\"C:\\\\Users\\\\leopo\\\\OneDrive\\\\Documentos\\\\PROJETOS TI\\\\PROJETOS_DADOS\\\\olist\\\\brazilian-ecommerce\\\\olist_geolocation_dataset.csv\")\n",
    "df_payment = pd.read_csv(\"C:\\\\Users\\\\leopo\\\\OneDrive\\\\Documentos\\\\PROJETOS TI\\\\PROJETOS_DADOS\\\\olist\\\\brazilian-ecommerce\\\\olist_order_payments_dataset.csv\")\n",
    "df_customers = pd.read_csv(\"C:\\\\Users\\\\leopo\\\\OneDrive\\\\Documentos\\\\PROJETOS TI\\\\PROJETOS_DADOS\\\\olist\\\\brazilian-ecommerce\\\\olist_customers_dataset.csv\")\n",
    "df_products = pd.read_csv(\"C:\\\\Users\\\\leopo\\\\OneDrive\\\\Documentos\\\\PROJETOS TI\\\\PROJETOS_DADOS\\\\olist\\\\brazilian-ecommerce\\\\olist_products_dataset.csv\")\n",
    "\n",
    "print('Data frames carregados com sucesso !!!')"
   ]
  },
  {
   "cell_type": "markdown",
   "metadata": {},
   "source": [
    "____________________________________________________________________________________________________________________________________________________________"
   ]
  },
  {
   "cell_type": "markdown",
   "metadata": {},
   "source": [
    "Data frames que receberão as colunas para estudo..."
   ]
  },
  {
   "cell_type": "code",
   "execution_count": 4,
   "metadata": {},
   "outputs": [
    {
     "name": "stdout",
     "output_type": "stream",
     "text": [
      "df recebido com sucesso !!!\n"
     ]
    }
   ],
   "source": [
    "df_ord = df_orders[['order_id', 'customer_id']] # data frame que recebe as colunas order id e customer id  do df_orders\n",
    "print('df recebido com sucesso !!!')\n"
   ]
  },
  {
   "cell_type": "code",
   "execution_count": 5,
   "metadata": {},
   "outputs": [
    {
     "name": "stdout",
     "output_type": "stream",
     "text": [
      "Df recebido com sucesso !!!\n"
     ]
    }
   ],
   "source": [
    "df_geo = df_geolocation[['geolocation_city', 'geolocation_state']] # df que recebe dados das colunas geolocation city e geolocation state\n",
    "print('Df recebido com sucesso !!!')"
   ]
  },
  {
   "cell_type": "code",
   "execution_count": 6,
   "metadata": {},
   "outputs": [
    {
     "name": "stdout",
     "output_type": "stream",
     "text": [
      "Df recebido com sucesso !!!\n"
     ]
    }
   ],
   "source": [
    "df_pay = df_payment[['order_id', 'payment_value', 'payment_type']] # df que recebe dados das colunas oerder_id, payment_value, payment_type \n",
    "print('Df recebido com sucesso !!!')"
   ]
  },
  {
   "cell_type": "code",
   "execution_count": 7,
   "metadata": {},
   "outputs": [
    {
     "name": "stdout",
     "output_type": "stream",
     "text": [
      "df recebido com sucesso !!!\n"
     ]
    }
   ],
   "source": [
    "df_custom_location = df_customers[['customer_id', 'customer_city', 'customer_state']]# df que recebe os dados dos clientes como id cidade e região\n",
    "print('df recebido com sucesso !!!')"
   ]
  },
  {
   "cell_type": "code",
   "execution_count": 8,
   "metadata": {},
   "outputs": [
    {
     "name": "stdout",
     "output_type": "stream",
     "text": [
      "df recebido com sucesso !!!\n"
     ]
    }
   ],
   "source": [
    "df_prod = df_products['product_id'] # df que recebe os dados dos produtos \n",
    "print('df recebido com sucesso !!!')"
   ]
  },
  {
   "cell_type": "markdown",
   "metadata": {},
   "source": [
    "____________________________________________________________________________________________________________________________________________________________"
   ]
  },
  {
   "cell_type": "markdown",
   "metadata": {},
   "source": [
    "4. QUANTIDADE DE COMPRAS POR UF E MUNICÍPIO "
   ]
  },
  {
   "cell_type": "markdown",
   "metadata": {},
   "source": [
    "separar as compras por cidade e estado"
   ]
  },
  {
   "cell_type": "code",
   "execution_count": 9,
   "metadata": {},
   "outputs": [
    {
     "name": "stdout",
     "output_type": "stream",
     "text": [
      "Arquivo CSV criado com sucesso !!!\n"
     ]
    }
   ],
   "source": [
    "df_orders_with_location = pd.merge(df_ord, df_custom_location, on='customer_id',  how='left')\n",
    "\n",
    "df_orders_with_location.to_csv(\"C:\\\\Users\\\\leopo\\\\OneDrive\\\\Documentos\\\\PROJETOS TI\\\\PROJETOS_DADOS\\\\olist\\\\csv das análises realizadas\\\\pedidos_por_localidade.csv\", index=False, header=True)\n",
    "\n",
    "print('Arquivo CSV criado com sucesso !!!')"
   ]
  },
  {
   "cell_type": "markdown",
   "metadata": {},
   "source": [
    "juntar os dfds e depois usar grouby "
   ]
  },
  {
   "cell_type": "markdown",
   "metadata": {},
   "source": [
    "-------------------------------------------------------------------------------------------------------------------------------------------------------------"
   ]
  },
  {
   "cell_type": "markdown",
   "metadata": {},
   "source": [
    "4.1 VALOR MÉDIO E MEDIANO DAS COMPRAS POR ESTADO,  MUNICÍPIO SEPARADO POR FORMA DE PGTO E TICKET MÉDIO ESTADO"
   ]
  },
  {
   "cell_type": "markdown",
   "metadata": {},
   "source": [
    "preciso somar os pedidos por estado "
   ]
  },
  {
   "cell_type": "code",
   "execution_count": 19,
   "metadata": {},
   "outputs": [],
   "source": [
    "df_orders_values_uf = pd.merge(df_orders_with_location, df_pay, on='order_id', how='left')"
   ]
  },
  {
   "cell_type": "code",
   "execution_count": 21,
   "metadata": {},
   "outputs": [
    {
     "data": {
      "text/plain": [
       "Index(['order_id', 'customer_id', 'customer_city', 'customer_state',\n",
       "       'payment_value', 'payment_type'],\n",
       "      dtype='object')"
      ]
     },
     "execution_count": 21,
     "metadata": {},
     "output_type": "execute_result"
    }
   ],
   "source": [
    "df_orders_values_uf.columns"
   ]
  },
  {
   "cell_type": "markdown",
   "metadata": {},
   "source": [
    "O DF_TOTAL_PAY_STATE obtém a média(Mean) e mediana(Median) dos pedidos por estado e município "
   ]
  },
  {
   "cell_type": "code",
   "execution_count": 33,
   "metadata": {},
   "outputs": [
    {
     "name": "stdout",
     "output_type": "stream",
     "text": [
      "DF criado com sucesso !!!\n"
     ]
    }
   ],
   "source": [
    "df_total_pay_state = df_orders_values_uf.groupby(['customer_id', 'customer_city', 'customer_state', 'payment_type'])['payment_value'].agg(['mean', 'median']).reset_index()\n",
    "print('DF criado com sucesso !!!')"
   ]
  },
  {
   "cell_type": "markdown",
   "metadata": {},
   "source": [
    "Salvando o df no arquivo \"media_mediana_por_cidade_uf.csv\""
   ]
  },
  {
   "cell_type": "code",
   "execution_count": 35,
   "metadata": {},
   "outputs": [
    {
     "name": "stdout",
     "output_type": "stream",
     "text": [
      "Df_criado com sucesso !!!\n"
     ]
    }
   ],
   "source": [
    "df_total_pay_state.to_csv(\"C:\\\\Users\\\\leopo\\\\OneDrive\\\\Documentos\\\\PROJETOS TI\\\\PROJETOS_DADOS\\\\olist\\\\csv das análises realizadas\\\\media_mediana_por_cidade_uf.csv\", index=False, header=True)\n",
    "print('Df_criado com sucesso !!!')"
   ]
  },
  {
   "cell_type": "markdown",
   "metadata": {},
   "source": [
    "________________________________________________________________________________________________________________________________________________________"
   ]
  },
  {
   "cell_type": "markdown",
   "metadata": {},
   "source": [
    "5. TOP 10 PRODUTOS MAIS VENDIDOS POR ESTADO / MUNICÍPIO"
   ]
  },
  {
   "cell_type": "code",
   "execution_count": null,
   "metadata": {},
   "outputs": [],
   "source": []
  },
  {
   "cell_type": "markdown",
   "metadata": {},
   "source": [
    "____________________________________________________________________________________________________________________________________________________________"
   ]
  },
  {
   "cell_type": "markdown",
   "metadata": {},
   "source": []
  }
 ],
 "metadata": {
  "kernelspec": {
   "display_name": "Python 3",
   "language": "python",
   "name": "python3"
  },
  "language_info": {
   "codemirror_mode": {
    "name": "ipython",
    "version": 3
   },
   "file_extension": ".py",
   "mimetype": "text/x-python",
   "name": "python",
   "nbconvert_exporter": "python",
   "pygments_lexer": "ipython3",
   "version": "3.12.0"
  }
 },
 "nbformat": 4,
 "nbformat_minor": 2
}
