{
 "cells": [
  {
   "cell_type": "code",
   "execution_count": 68,
   "metadata": {},
   "outputs": [],
   "source": [
    "import pandas as pd \n",
    "\n"
   ]
  },
  {
   "cell_type": "code",
   "execution_count": 3,
   "metadata": {},
   "outputs": [],
   "source": [
    "df_reviews = pd.read_csv(\"C:\\\\Users\\\\leopo\\\\OneDrive\\\\Documentos\\\\PROJETOS TI\\\\PROJETOS_DADOS\\\\olist\\\\brazilian-ecommerce\\\\olist_order_reviews_dataset.csv\")"
   ]
  },
  {
   "cell_type": "code",
   "execution_count": 20,
   "metadata": {},
   "outputs": [],
   "source": [
    "df_order = pd.read_csv(\"C:\\\\Users\\\\leopo\\\\OneDrive\\\\Documentos\\\\PROJETOS TI\\\\PROJETOS_DADOS\\\\olist\\\\brazilian-ecommerce\\\\olist_orders_dataset.csv\")"
   ]
  },
  {
   "cell_type": "code",
   "execution_count": 21,
   "metadata": {},
   "outputs": [],
   "source": [
    "df_customers = pd.read_csv(\"C:\\\\Users\\\\leopo\\\\OneDrive\\\\Documentos\\\\PROJETOS TI\\\\PROJETOS_DADOS\\\\olist\\\\brazilian-ecommerce\\\\olist_customers_dataset.csv\")"
   ]
  },
  {
   "cell_type": "code",
   "execution_count": 33,
   "metadata": {},
   "outputs": [],
   "source": [
    "df_payment_value = pd.read_csv(\"C:\\\\Users\\\\leopo\\\\OneDrive\\\\Documentos\\\\PROJETOS TI\\\\PROJETOS_DADOS\\\\olist\\\\brazilian-ecommerce\\\\olist_order_payments_dataset.csv\")"
   ]
  },
  {
   "cell_type": "markdown",
   "metadata": {},
   "source": [
    "___________________________________________________________________"
   ]
  },
  {
   "cell_type": "markdown",
   "metadata": {},
   "source": [
    "Colunas com valores de datas em string convertidos para timestamp"
   ]
  },
  {
   "cell_type": "code",
   "execution_count": 8,
   "metadata": {},
   "outputs": [
    {
     "name": "stdout",
     "output_type": "stream",
     "text": [
      "convertido com sucesso !!!\n"
     ]
    }
   ],
   "source": [
    "df_reviews['review_creation_date'] = pd.to_datetime(df_reviews['review_creation_date']).astype('int64') // 10**9\n",
    "\n",
    "print('convertido com sucesso !!!') "
   ]
  },
  {
   "cell_type": "code",
   "execution_count": 11,
   "metadata": {},
   "outputs": [
    {
     "name": "stdout",
     "output_type": "stream",
     "text": [
      "coluna convertida com sucesso !!!\n"
     ]
    }
   ],
   "source": [
    "df_reviews['review_answer_timestamp'] = pd.to_datetime(df_reviews['review_answer_timestamp']).astype('int64') //10**9\n",
    "\n",
    "print('coluna convertida com sucesso !!!')"
   ]
  },
  {
   "cell_type": "markdown",
   "metadata": {},
   "source": [
    "____________________________________________________________________"
   ]
  },
  {
   "cell_type": "markdown",
   "metadata": {},
   "source": [
    "Salvando data frames com as colunas convertidas em um arquivo csv"
   ]
  },
  {
   "cell_type": "code",
   "execution_count": 9,
   "metadata": {},
   "outputs": [
    {
     "name": "stdout",
     "output_type": "stream",
     "text": [
      "csv salvo com sucesso !!!\n"
     ]
    }
   ],
   "source": [
    "df_reviews.to_csv(\"C:\\\\Users\\\\leopo\\\\OneDrive\\\\Documentos\\\\PROJETOS TI\\\\PROJETOS_DADOS\\\\olist\\\\brazilian-ecommerce\\\\csv tratados\\\\reviws_timestamp_column.csv\")\n",
    "\n",
    "print('csv salvo com sucesso !!!')"
   ]
  },
  {
   "cell_type": "code",
   "execution_count": 13,
   "metadata": {},
   "outputs": [],
   "source": [
    "df_reviews.to_csv(\"C:\\\\Users\\\\leopo\\\\OneDrive\\\\Documentos\\\\PROJETOS TI\\\\PROJETOS_DADOS\\\\olist\\\\brazilian-ecommerce\\\\csv tratados\\\\Reviews_timestamp_convertidos.csv\")"
   ]
  },
  {
   "cell_type": "markdown",
   "metadata": {},
   "source": [
    "_____________________________________________________________________"
   ]
  },
  {
   "cell_type": "markdown",
   "metadata": {},
   "source": [
    "____________________________________________________________________"
   ]
  },
  {
   "cell_type": "code",
   "execution_count": 34,
   "metadata": {},
   "outputs": [
    {
     "data": {
      "text/plain": [
       "Index(['order_id', 'payment_sequential', 'payment_type',\n",
       "       'payment_installments', 'payment_value'],\n",
       "      dtype='object')"
      ]
     },
     "execution_count": 34,
     "metadata": {},
     "output_type": "execute_result"
    }
   ],
   "source": [
    "df_payment_value.columns"
   ]
  },
  {
   "cell_type": "markdown",
   "metadata": {},
   "source": [
    "Junção das tabelas order e customers para depois juntar com reviews"
   ]
  },
  {
   "cell_type": "code",
   "execution_count": 36,
   "metadata": {},
   "outputs": [
    {
     "name": "stdout",
     "output_type": "stream",
     "text": [
      "merge realizado com sucesso !!!\n"
     ]
    }
   ],
   "source": [
    "df_order_customers = pd.merge(df_customers[['customer_id', 'customer_state']], df_order[['customer_id', 'order_id']], on='customer_id', how='inner')\n",
    "\n",
    "print('merge realizado com sucesso !!!')"
   ]
  },
  {
   "cell_type": "code",
   "execution_count": 37,
   "metadata": {},
   "outputs": [],
   "source": [
    "df_order_customers_payment = pd.merge(df_order_customers, df_payment_value[['order_id', 'payment_value']], on='order_id', how='inner')"
   ]
  },
  {
   "cell_type": "markdown",
   "metadata": {},
   "source": [
    "___________________________________________________________________________________________________________________________________________________________"
   ]
  },
  {
   "cell_type": "markdown",
   "metadata": {},
   "source": [
    "Junção do df_reviews com o df_order_customers"
   ]
  },
  {
   "cell_type": "markdown",
   "metadata": {},
   "source": [
    "Com esta junção consigo obter as avaliações dos pedidos e mensurar por estado identificando por id customer(cliente)"
   ]
  },
  {
   "cell_type": "code",
   "execution_count": 38,
   "metadata": {},
   "outputs": [
    {
     "name": "stdout",
     "output_type": "stream",
     "text": [
      "Junção total realizada com sucesso !!!\n"
     ]
    }
   ],
   "source": [
    "df_review_total = pd.merge(df_order_customers_payment, df_reviews[['order_id', 'review_score', 'review_comment_message']], on='order_id', how='inner')\n",
    "print('Junção total realizada com sucesso !!!')"
   ]
  },
  {
   "cell_type": "markdown",
   "metadata": {},
   "source": [
    "____________________________________________________________________"
   ]
  },
  {
   "cell_type": "markdown",
   "metadata": {},
   "source": [
    "SALVAR EM ARQ CSV O DF_REVIEW_TOTAL"
   ]
  },
  {
   "cell_type": "code",
   "execution_count": 51,
   "metadata": {},
   "outputs": [
    {
     "name": "stdout",
     "output_type": "stream",
     "text": [
      "Csv salvo com sucesso !!!\n"
     ]
    }
   ],
   "source": [
    "df_review_total.to_csv(\"C:\\\\Users\\\\leopo\\\\OneDrive\\\\Documentos\\\\PROJETOS TI\\\\PROJETOS_DADOS\\\\olist\\\\brazilian-ecommerce\\\\csv tratados\\\\'Reviews_total.csv\")\n",
    "\n",
    "print(\"Csv salvo com sucesso !!!\")"
   ]
  },
  {
   "cell_type": "markdown",
   "metadata": {},
   "source": [
    "___________________________________________________________________________________________________________________________________________________________"
   ]
  },
  {
   "cell_type": "markdown",
   "metadata": {},
   "source": [
    "Salvar em CSV o df com reviews menor que 4 "
   ]
  },
  {
   "cell_type": "code",
   "execution_count": 70,
   "metadata": {},
   "outputs": [],
   "source": [
    "df_reviews_menor_que_4 = df_review_total[df_review_total['review_score'] < 4]"
   ]
  },
  {
   "cell_type": "code",
   "execution_count": 76,
   "metadata": {},
   "outputs": [
    {
     "data": {
      "text/plain": [
       "Index(['customer_id', 'customer_state', 'order_id', 'payment_value',\n",
       "       'review_score', 'review_comment_message'],\n",
       "      dtype='object')"
      ]
     },
     "execution_count": 76,
     "metadata": {},
     "output_type": "execute_result"
    }
   ],
   "source": [
    "df_reviews_menor_que_4.columns"
   ]
  },
  {
   "cell_type": "markdown",
   "metadata": {},
   "source": [
    "Converte linhas vazias da coluna review comment message em Null "
   ]
  },
  {
   "cell_type": "code",
   "execution_count": 79,
   "metadata": {},
   "outputs": [],
   "source": [
    "df_reviews_menor_que_4.loc[df_reviews_menor_que_4['review_comment_message'].isna(), 'review_comment_message']=\"NULL\""
   ]
  },
  {
   "cell_type": "code",
   "execution_count": 80,
   "metadata": {},
   "outputs": [],
   "source": [
    "df_reviews_menor_que_4.to_csv(\"C:\\\\Users\\\\leopo\\\\OneDrive\\\\Documentos\\\\PROJETOS TI\\\\PROJETOS_DADOS\\\\olist\\\\brazilian-ecommerce\\\\csv tratados\\\\Reviews_menor_quatro.csv\")"
   ]
  },
  {
   "cell_type": "code",
   "execution_count": 81,
   "metadata": {},
   "outputs": [
    {
     "data": {
      "text/html": [
       "<div>\n",
       "<style scoped>\n",
       "    .dataframe tbody tr th:only-of-type {\n",
       "        vertical-align: middle;\n",
       "    }\n",
       "\n",
       "    .dataframe tbody tr th {\n",
       "        vertical-align: top;\n",
       "    }\n",
       "\n",
       "    .dataframe thead th {\n",
       "        text-align: right;\n",
       "    }\n",
       "</style>\n",
       "<table border=\"1\" class=\"dataframe\">\n",
       "  <thead>\n",
       "    <tr style=\"text-align: right;\">\n",
       "      <th></th>\n",
       "      <th>customer_id</th>\n",
       "      <th>customer_state</th>\n",
       "      <th>order_id</th>\n",
       "      <th>payment_value</th>\n",
       "      <th>review_score</th>\n",
       "      <th>review_comment_message</th>\n",
       "    </tr>\n",
       "  </thead>\n",
       "  <tbody>\n",
       "    <tr>\n",
       "      <th>7</th>\n",
       "      <td>5e274e7a0c3809e14aba7ad5aae0d407</td>\n",
       "      <td>MG</td>\n",
       "      <td>1093c8304c7a003280dd34598194913d</td>\n",
       "      <td>36.01</td>\n",
       "      <td>3</td>\n",
       "      <td>NULL</td>\n",
       "    </tr>\n",
       "    <tr>\n",
       "      <th>13</th>\n",
       "      <td>eabebad39a88bb6f5b52376faec28612</td>\n",
       "      <td>SP</td>\n",
       "      <td>852d2f4d37773bcbc21c8e09a05a4ea5</td>\n",
       "      <td>36.39</td>\n",
       "      <td>3</td>\n",
       "      <td>Produto chegou no prazo o problema que veio na...</td>\n",
       "    </tr>\n",
       "    <tr>\n",
       "      <th>20</th>\n",
       "      <td>690172ab319622688d3b4df42f676898</td>\n",
       "      <td>GO</td>\n",
       "      <td>aaff8afa47c8426e414a6d908a97713c</td>\n",
       "      <td>232.71</td>\n",
       "      <td>1</td>\n",
       "      <td>Bom dia eu fiz uma compra de 03 peças só mim e...</td>\n",
       "    </tr>\n",
       "    <tr>\n",
       "      <th>26</th>\n",
       "      <td>6e359a57a91f84095cc64e1b351aef8c</td>\n",
       "      <td>SP</td>\n",
       "      <td>a8f5a2b22f55e0af45b300929d1fdc7d</td>\n",
       "      <td>47.59</td>\n",
       "      <td>3</td>\n",
       "      <td>NULL</td>\n",
       "    </tr>\n",
       "    <tr>\n",
       "      <th>27</th>\n",
       "      <td>e0eea8f69a457b3f1fa246e44c9ebefd</td>\n",
       "      <td>ES</td>\n",
       "      <td>3a6d41a4fe7a8e841b7c8e4b77d4e301</td>\n",
       "      <td>69.12</td>\n",
       "      <td>2</td>\n",
       "      <td>NULL</td>\n",
       "    </tr>\n",
       "    <tr>\n",
       "      <th>...</th>\n",
       "      <td>...</td>\n",
       "      <td>...</td>\n",
       "      <td>...</td>\n",
       "      <td>...</td>\n",
       "      <td>...</td>\n",
       "      <td>...</td>\n",
       "    </tr>\n",
       "    <tr>\n",
       "      <th>103664</th>\n",
       "      <td>1ed0c832c2dd99570a59260e71768bdf</td>\n",
       "      <td>MG</td>\n",
       "      <td>51c6d2f460589fa7b65f2da51e860206</td>\n",
       "      <td>32.13</td>\n",
       "      <td>1</td>\n",
       "      <td>NULL</td>\n",
       "    </tr>\n",
       "    <tr>\n",
       "      <th>103668</th>\n",
       "      <td>14308d2303a3e2bdf4939b86c46d2679</td>\n",
       "      <td>PA</td>\n",
       "      <td>ec3a75fb0ac595e461765d2d854b1d08</td>\n",
       "      <td>40.53</td>\n",
       "      <td>3</td>\n",
       "      <td>NULL</td>\n",
       "    </tr>\n",
       "    <tr>\n",
       "      <th>103669</th>\n",
       "      <td>14308d2303a3e2bdf4939b86c46d2679</td>\n",
       "      <td>PA</td>\n",
       "      <td>ec3a75fb0ac595e461765d2d854b1d08</td>\n",
       "      <td>43.79</td>\n",
       "      <td>3</td>\n",
       "      <td>NULL</td>\n",
       "    </tr>\n",
       "    <tr>\n",
       "      <th>103671</th>\n",
       "      <td>7fe2e80252a9ea476f950ae8f85b0f8f</td>\n",
       "      <td>MG</td>\n",
       "      <td>c9aea907527f5d4f5fb44955c18a79fb</td>\n",
       "      <td>75.88</td>\n",
       "      <td>1</td>\n",
       "      <td>tenho reclamaçoes quanto ao produto. nao atend...</td>\n",
       "    </tr>\n",
       "    <tr>\n",
       "      <th>103674</th>\n",
       "      <td>5e28dfe12db7fb50a4b2f691faecea5e</td>\n",
       "      <td>CE</td>\n",
       "      <td>fed4434add09a6f332ea398efd656a5c</td>\n",
       "      <td>56.04</td>\n",
       "      <td>1</td>\n",
       "      <td>Esperava qualidade no atendimento e estou tend...</td>\n",
       "    </tr>\n",
       "  </tbody>\n",
       "</table>\n",
       "<p>23847 rows × 6 columns</p>\n",
       "</div>"
      ],
      "text/plain": [
       "                             customer_id customer_state  \\\n",
       "7       5e274e7a0c3809e14aba7ad5aae0d407             MG   \n",
       "13      eabebad39a88bb6f5b52376faec28612             SP   \n",
       "20      690172ab319622688d3b4df42f676898             GO   \n",
       "26      6e359a57a91f84095cc64e1b351aef8c             SP   \n",
       "27      e0eea8f69a457b3f1fa246e44c9ebefd             ES   \n",
       "...                                  ...            ...   \n",
       "103664  1ed0c832c2dd99570a59260e71768bdf             MG   \n",
       "103668  14308d2303a3e2bdf4939b86c46d2679             PA   \n",
       "103669  14308d2303a3e2bdf4939b86c46d2679             PA   \n",
       "103671  7fe2e80252a9ea476f950ae8f85b0f8f             MG   \n",
       "103674  5e28dfe12db7fb50a4b2f691faecea5e             CE   \n",
       "\n",
       "                                order_id  payment_value  review_score  \\\n",
       "7       1093c8304c7a003280dd34598194913d          36.01             3   \n",
       "13      852d2f4d37773bcbc21c8e09a05a4ea5          36.39             3   \n",
       "20      aaff8afa47c8426e414a6d908a97713c         232.71             1   \n",
       "26      a8f5a2b22f55e0af45b300929d1fdc7d          47.59             3   \n",
       "27      3a6d41a4fe7a8e841b7c8e4b77d4e301          69.12             2   \n",
       "...                                  ...            ...           ...   \n",
       "103664  51c6d2f460589fa7b65f2da51e860206          32.13             1   \n",
       "103668  ec3a75fb0ac595e461765d2d854b1d08          40.53             3   \n",
       "103669  ec3a75fb0ac595e461765d2d854b1d08          43.79             3   \n",
       "103671  c9aea907527f5d4f5fb44955c18a79fb          75.88             1   \n",
       "103674  fed4434add09a6f332ea398efd656a5c          56.04             1   \n",
       "\n",
       "                                   review_comment_message  \n",
       "7                                                    NULL  \n",
       "13      Produto chegou no prazo o problema que veio na...  \n",
       "20      Bom dia eu fiz uma compra de 03 peças só mim e...  \n",
       "26                                                   NULL  \n",
       "27                                                   NULL  \n",
       "...                                                   ...  \n",
       "103664                                               NULL  \n",
       "103668                                               NULL  \n",
       "103669                                               NULL  \n",
       "103671  tenho reclamaçoes quanto ao produto. nao atend...  \n",
       "103674  Esperava qualidade no atendimento e estou tend...  \n",
       "\n",
       "[23847 rows x 6 columns]"
      ]
     },
     "execution_count": 81,
     "metadata": {},
     "output_type": "execute_result"
    }
   ],
   "source": [
    "df_reviews_menor_que_4"
   ]
  },
  {
   "cell_type": "markdown",
   "metadata": {},
   "source": [
    "df_soma_reviews_negativos obtém a soma total dos valores das compras realizadas com avaliação menor que 4\n",
    "\n",
    "totalizando: QUATRO MILHÕES E QUINZE MIL SETECENTOS E TRINTA E DOIS REAIS E QUATORZE CENTAVOS."
   ]
  },
  {
   "cell_type": "code",
   "execution_count": 48,
   "metadata": {},
   "outputs": [],
   "source": [
    "df_soma_reviews_negativos = reviews_menor_que_4['payment_value'].sum()"
   ]
  },
  {
   "cell_type": "code",
   "execution_count": 57,
   "metadata": {},
   "outputs": [
    {
     "data": {
      "text/plain": [
       "4015732.14"
      ]
     },
     "execution_count": 57,
     "metadata": {},
     "output_type": "execute_result"
    }
   ],
   "source": [
    "df_soma_reviews_negativos"
   ]
  },
  {
   "cell_type": "code",
   "execution_count": 61,
   "metadata": {},
   "outputs": [],
   "source": [
    "df_soma = pd.DataFrame({'df_soma_reviews_negativos' : [df_soma_reviews_negativos]}).reset_index()"
   ]
  },
  {
   "cell_type": "code",
   "execution_count": 64,
   "metadata": {},
   "outputs": [],
   "source": [
    "df_soma.to_csv(\"C:\\\\Users\\\\leopo\\\\OneDrive\\\\Documentos\\\\PROJETOS TI\\\\PROJETOS_DADOS\\\\olist\\\\brazilian-ecommerce\\\\csv tratados\\\\Reviews_soma_negativos2.csv\")"
   ]
  },
  {
   "cell_type": "markdown",
   "metadata": {},
   "source": [
    "____________________________________________________________________"
   ]
  },
  {
   "cell_type": "markdown",
   "metadata": {},
   "source": [
    "1.Somar o valor dos pedidos com review score menor que 4 ------(ok)\n",
    "\n",
    "2.cruzar as tabelas order_id, customer_id_review_id ------(ok)\n",
    "\n",
    "3.obter os valores por Estado -------------(ok) \n",
    "\n",
    "4.soma total das compras que geraram a insatisfação ---(ok) \n",
    "\n",
    "5.mensurar o \"risco de perda\" tanto no total das compras quanto por estado e identificar os estados com maiores índices de insatisfação.-------------------() "
   ]
  },
  {
   "cell_type": "markdown",
   "metadata": {},
   "source": []
  }
 ],
 "metadata": {
  "kernelspec": {
   "display_name": "Python 3",
   "language": "python",
   "name": "python3"
  },
  "language_info": {
   "codemirror_mode": {
    "name": "ipython",
    "version": 3
   },
   "file_extension": ".py",
   "mimetype": "text/x-python",
   "name": "python",
   "nbconvert_exporter": "python",
   "pygments_lexer": "ipython3",
   "version": "3.12.0"
  }
 },
 "nbformat": 4,
 "nbformat_minor": 2
}
