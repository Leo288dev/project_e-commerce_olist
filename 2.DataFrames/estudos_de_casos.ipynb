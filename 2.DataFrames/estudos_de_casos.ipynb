{
 "cells": [
  {
   "cell_type": "markdown",
   "metadata": {},
   "source": [
    "Passos básicos para o tratamento de dados em tabelas e frameworks \n",
    "\n",
    "1. Leitura e compreensão - abrir o arq./ identif. colunas e seus tipos / verificar se há valores inconsistentes ou nulos\n",
    "2. limpeza - Corrigir tipos de dados e colunas / Remover linhas com valores ausentes ou inconsistentes / Preencher valores ausentes com metodos adequados \n",
    "3. Nomralização - Padronizar valores das colunas numericas / Normallizar os valores das colunas entre 0 e 1 \n",
    "4. Transformação - Crie novas colunas a parttir de cálculos ou combinações de outras colunas / Agrupe os dados por uma ou mais colunas  calcule estatísticas\n",
    "5. Visualização - Utilize gráficos e tabelas para visualizar a distribuição dos dados / Identifique outliers e anomalias nos dados  "
   ]
  },
  {
   "cell_type": "markdown",
   "metadata": {},
   "source": [
    "####################################################################"
   ]
  },
  {
   "cell_type": "markdown",
   "metadata": {},
   "source": [
    "Importando a biblioteca Pandas Pelidando como \"Pd\""
   ]
  },
  {
   "cell_type": "code",
   "execution_count": 1,
   "metadata": {},
   "outputs": [],
   "source": [
    "import pandas as pd \n"
   ]
  },
  {
   "cell_type": "markdown",
   "metadata": {},
   "source": [
    "#######################################################################"
   ]
  },
  {
   "cell_type": "markdown",
   "metadata": {},
   "source": [
    "CUSTOMERS E GEOLOCATION "
   ]
  },
  {
   "cell_type": "markdown",
   "metadata": {},
   "source": [
    "######################################################################"
   ]
  },
  {
   "cell_type": "markdown",
   "metadata": {},
   "source": [
    "Criada uma variável chamada DF(data frame) que receberá o arquivo CSV especificado no caminho entre parênteses"
   ]
  },
  {
   "cell_type": "markdown",
   "metadata": {},
   "source": [
    "Tabelas Clientes (customers) e Geolocalização (geolocation)"
   ]
  },
  {
   "cell_type": "code",
   "execution_count": 2,
   "metadata": {},
   "outputs": [],
   "source": [
    "df_customers = pd.read_csv(\"C:\\\\Users\\\\leopo\\\\OneDrive\\\\Documentos\\\\PROJETOS TI\\\\PROJETOS_DADOS\\\\olist\\\\brazilian-ecommerce\\\\olist_customers_dataset.csv\")"
   ]
  },
  {
   "cell_type": "code",
   "execution_count": 3,
   "metadata": {},
   "outputs": [],
   "source": [
    "df_geolocation = pd.read_csv(\"C:\\\\Users\\\\leopo\\\\OneDrive\\\\Documentos\\\\PROJETOS TI\\\\PROJETOS_DADOS\\\\olist\\\\brazilian-ecommerce\\\\olist_geolocation_dataset.csv\")"
   ]
  },
  {
   "cell_type": "markdown",
   "metadata": {},
   "source": [
    "Com o comando DROPNA será removido os valores nulos presentes nos df\n",
    "Os DF's sem a presença de valores nulos agora chamam-se \"DF_GEO\" e \"DF_CUSTOM\"\n"
   ]
  },
  {
   "cell_type": "code",
   "execution_count": 4,
   "metadata": {},
   "outputs": [],
   "source": [
    "df_geo = df_geolocation.dropna\n",
    "df_custom = df_customers.dropna"
   ]
  },
  {
   "cell_type": "markdown",
   "metadata": {},
   "source": [
    "#########################################################################################################################################"
   ]
  },
  {
   "cell_type": "markdown",
   "metadata": {},
   "source": [
    "Tabelas Pedidos(orders) e Pagamentos(payments) "
   ]
  },
  {
   "cell_type": "markdown",
   "metadata": {},
   "source": [
    "#####################################################################"
   ]
  },
  {
   "cell_type": "code",
   "execution_count": 5,
   "metadata": {},
   "outputs": [],
   "source": [
    "df_order = pd.read_csv(\"C:\\\\Users\\\\leopo\\\\OneDrive\\\\Documentos\\\\PROJETOS TI\\\\PROJETOS_DADOS\\\\olist\\\\brazilian-ecommerce\\\\olist_order_items_dataset.csv\")"
   ]
  },
  {
   "cell_type": "code",
   "execution_count": 6,
   "metadata": {},
   "outputs": [],
   "source": [
    "df_payment = pd.read_csv(\"C:\\\\Users\\\\leopo\\\\OneDrive\\\\Documentos\\\\PROJETOS TI\\\\PROJETOS_DADOS\\\\olist\\\\brazilian-ecommerce\\\\olist_order_payments_dataset.csv\")"
   ]
  },
  {
   "cell_type": "markdown",
   "metadata": {},
   "source": [
    "#######################################################################"
   ]
  },
  {
   "cell_type": "markdown",
   "metadata": {},
   "source": [
    "Tabelas Revisão de pedidos (orders review) e Pedidos (orders)"
   ]
  },
  {
   "cell_type": "markdown",
   "metadata": {},
   "source": [
    "######################################################################"
   ]
  },
  {
   "cell_type": "code",
   "execution_count": 9,
   "metadata": {},
   "outputs": [],
   "source": [
    "df_review = pd.read_csv(\"C:\\\\Users\\\\leopo\\\\OneDrive\\\\Documentos\\\\PROJETOS TI\\\\PROJETOS_DADOS\\\\olist\\\\brazilian-ecommerce\\\\olist_order_reviews_dataset.csv\")"
   ]
  },
  {
   "cell_type": "code",
   "execution_count": 10,
   "metadata": {},
   "outputs": [],
   "source": [
    "df_orders = pd.read_csv(\"C:\\\\Users\\\\leopo\\\\OneDrive\\\\Documentos\\\\PROJETOS TI\\\\PROJETOS_DADOS\\\\olist\\\\brazilian-ecommerce\\\\olist_orders_dataset.csv\")"
   ]
  },
  {
   "cell_type": "markdown",
   "metadata": {},
   "source": [
    "######################################################################"
   ]
  },
  {
   "cell_type": "markdown",
   "metadata": {},
   "source": [
    "INICIANDO AS ANÁLISES DOS DADOS ENTRE AS TABELAS"
   ]
  },
  {
   "cell_type": "markdown",
   "metadata": {},
   "source": [
    "####################################################################\n",
    "--------------------------------------------------------------------"
   ]
  },
  {
   "cell_type": "markdown",
   "metadata": {},
   "source": [
    "1. QUAL A SOMA TOTAL DE CADA TIPO DE PAGAMENTO REALIZADO?"
   ]
  },
  {
   "cell_type": "code",
   "execution_count": 13,
   "metadata": {},
   "outputs": [
    {
     "name": "stdout",
     "output_type": "stream",
     "text": [
      "credit_card: 76795\n",
      "boleto: 19784\n",
      "voucher: 5775\n",
      "debit_card: 1529\n",
      "not_defined: 3\n"
     ]
    }
   ],
   "source": [
    "#select the column payment_type and assign to variable col_payment \n",
    "col_payment = df_payment['payment_type']\n",
    "\n",
    "#variable type dictionary to save the count into dictionary \n",
    "count_payment = {}\n",
    "\n",
    "#this structure walks into dictionary and sum the payments type\n",
    "for form in col_payment:\n",
    "    if form not in count_payment:\n",
    "        count_payment[form] = 0\n",
    "    count_payment[form] += 1\n",
    "    \n",
    "for form, count in count_payment.items():\n",
    "    print(f'{form}: {count}')\n",
    "    \n"
   ]
  },
  {
   "cell_type": "markdown",
   "metadata": {},
   "source": [
    "O data frame abaixo transforma o dicionário com a soma das formas de pgto em um arquivo csv e salva em um diretório específico "
   ]
  },
  {
   "cell_type": "code",
   "execution_count": 14,
   "metadata": {},
   "outputs": [
    {
     "name": "stdout",
     "output_type": "stream",
     "text": [
      "Os dados foram salvos com sucesso !!!\n"
     ]
    }
   ],
   "source": [
    "# Create a data frame from the dictionary count\n",
    "df_count_payment = pd.DataFrame.from_dict(count_payment, orient='index', columns=['count'])\n",
    "\n",
    "#Rename the index to payment_type\n",
    "df_count_payment.index.name = 'payment_type'\n",
    "\n",
    "#save the data frame  on a file csv  \n",
    "df_count_payment.to_csv('C:\\\\Users\\\\leopo\\\\OneDrive\\\\Documentos\\\\PROJETOS TI\\\\PROJETOS_DADOS\\\\olist\\\\csv das análises realizadas\\\\count_pyment.csv')\n",
    "\n",
    "# prints the confirmation after the changes are made successfully\n",
    "print('Os dados foram salvos com sucesso !!!')"
   ]
  },
  {
   "cell_type": "markdown",
   "metadata": {},
   "source": [
    "2. QUAL O PERCENTUAL DE CADA FORMA DE PAGAMENTO SOBRE O TOTAL DE OPERAÇÕES ? "
   ]
  },
  {
   "cell_type": "code",
   "execution_count": 15,
   "metadata": {},
   "outputs": [
    {
     "name": "stdout",
     "output_type": "stream",
     "text": [
      "Total de op. no Cartão de Crédito: 76795\n",
      "Percentual: 73.92%\n",
      "----------------------------------------\n",
      "Total de op. no Boleto: 19784\n",
      "Percentual: 19.04%\n",
      "----------------------------------------\n",
      "Total de op. no Voucher: 5775\n",
      "Percentual: 5.56%\n",
      "----------------------------------------\n",
      "Total de op. no Cartão de Débito: 1529\n",
      "Percentual:  1.47%\n",
      "----------------------------------------\n",
      "Total de operações Não Definidas: 3\n",
      "Percentual: 0.0029%\n",
      "----------------------------------------\n",
      "----------------------------------------\n",
      "----------------------------------------\n",
      "SOMA DO TOTAL DE OPERAÇÕES: 103886\n",
      "----------------------------------------\n",
      "{'credit_card': 73.92237645110987, 'boleto': 19.043952024334367, 'voucher': 5.558978110621258, 'debit_card': 1.4718056330978189, 'Nof_defined': 0.0028877808366863677}\n"
     ]
    }
   ],
   "source": [
    "soma = 0\n",
    "credit_card = 0 \n",
    "boleto = 0 \n",
    "voucher = 0 \n",
    "debit_card = 0 \n",
    "not_defined = 0\n",
    "percentual_tot = {} # Dicionário para atribuir os percentuais de cada forma de pgto \n",
    "\n",
    "# soma o valor total das formas de pgto\n",
    "for key, value in count_payment.items():\n",
    "    soma += value     \n",
    "\n",
    "#--------------------------------------------------------------------------\n",
    "#Calculo do percentual de operações no CARTÃO DE CRÉDITO\n",
    "#var (nome forma de pgto) recebe o valor total de operações \n",
    "#var (percentual + forma de pgto) calcula o % com as vars credit_car / soma * 100\n",
    "\n",
    "for key, value in count_payment.items():    \n",
    "    if key == 'credit_card': \n",
    "        credit_card = value   \n",
    "        percentual = (credit_card / soma) * 100      \n",
    "        percentual_tot['credit_card'] = percentual\n",
    "        print(f'Total de op. no Cartão de Crédito: {credit_card}')\n",
    "        print(f'Percentual: {percentual:.2f}%')\n",
    "        print('-' * 40)\n",
    "#---------------------------------------------------------------------------    \n",
    "#Cálculo do percentual da forma BOLETO\n",
    "    elif key == 'boleto': \n",
    "        boleto = value   \n",
    "        percentual_boleto = (boleto / soma) * 100\n",
    "        percentual_tot['boleto'] = percentual_boleto\n",
    "        print(f'Total de op. no Boleto: {boleto}')\n",
    "        print(f'Percentual: {percentual_boleto:.2f}%')\n",
    "        print('-' * 40)\n",
    "#---------------------------------------------------------------------------\n",
    "#Cálculo do percentual VOUCHER        \n",
    "    elif key == 'voucher': \n",
    "        voucher = value   \n",
    "        percentual_voucher = (voucher / soma) * 100\n",
    "        percentual_tot['voucher'] = percentual_voucher\n",
    "        print(f'Total de op. no Voucher: {voucher}')\n",
    "        print(f'Percentual: {percentual_voucher:.2f}%')\n",
    "        print('-' * 40)\n",
    "#---------------------------------------------------------------------------\n",
    "#Cálculo do perncentual Cartão de Débito\n",
    "    elif key == 'debit_card':\n",
    "        debit = value\n",
    "        percent_debit = (debit / soma) * 100\n",
    "        percentual_tot['debit_card'] = percent_debit\n",
    "        print(f'Total de op. no Cartão de Débito: {debit}')\n",
    "        print(f'Percentual:  {percent_debit:.2f}%')\n",
    "        print('-' * 40)\n",
    "        \n",
    "#---------------------------------------------------------------------------        \n",
    "#Cálculo de percentual NÃO DEFINIDO\n",
    "    elif key == 'not_defined':\n",
    "        not_def = value\n",
    "        percent_notDef = (value / soma) * 100\n",
    "        percentual_tot['Nof_defined'] = percent_notDef\n",
    "        print(f'Total de operações Não Definidas: {not_def}')\n",
    "        print(f'Percentual: {percent_notDef:.4f}%')\n",
    "        print('-' * 40)\n",
    "# NOta: devido ao baivo volume de dados no quadrante não definido manteve-se 4 casas \n",
    "# após a vírgula para demonstrar o percentual frente às demais formas de pgto.\n",
    "\n",
    "print('-' * 40)\n",
    "print('-' * 40)\n",
    "print(f'SOMA DO TOTAL DE OPERAÇÕES: {soma}')\n",
    "print('-' * 40)\n",
    "\n",
    "print(percentual_tot)    \n"
   ]
  },
  {
   "cell_type": "markdown",
   "metadata": {},
   "source": [
    "No DF abaixo criamos o dicionário \"percentuais\" que receberá o resultado do cálculo de média e salvará em arquivo CSV "
   ]
  },
  {
   "cell_type": "code",
   "execution_count": 16,
   "metadata": {},
   "outputs": [
    {
     "name": "stdout",
     "output_type": "stream",
     "text": [
      "Processo realizado com sucesso !!!\n"
     ]
    }
   ],
   "source": [
    "percentuais = {}\n",
    "\n",
    "percentuais['credit_card'] = percentual_tot['credit_card']\n",
    "\n",
    "#boleto \n",
    "percentuais['boleto'] = percentual_tot['boleto']\n",
    "\n",
    "#voucher\n",
    "percentuais['voucher'] = percentual_tot['voucher']\n",
    "\n",
    "#cartão de dedito \n",
    "percentuais['debit_card'] = percentual_tot['debit_card']\n",
    "\n",
    "#não definido\n",
    "percentuais['Not_defined'] = percentual_tot['Nof_defined']\n",
    "\n",
    "#------------------------------------------------------------------------------------------------------------------------------------------------------\n",
    "# Script para salvar o dicionário em um arquivo csv em pasta específica\n",
    "\n",
    "percentuais_total = pd.DataFrame.from_dict(percentuais, orient='index', columns=['Percentual'])\n",
    "\n",
    "percentuais_total.index.name = 'TotalPercentuais'\n",
    "\n",
    "\n",
    "percentuais_total.to_csv(\"C:\\\\Users\\\\leopo\\\\OneDrive\\\\Documentos\\\\PROJETOS TI\\\\PROJETOS_DADOS\\\\olist\\\\csv das análises realizadas\\\\percentual_pagamentos.csv\")\n",
    "\n",
    "print('Processo realizado com sucesso !!!')"
   ]
  },
  {
   "cell_type": "markdown",
   "metadata": {},
   "source": [
    "#####################################################################"
   ]
  },
  {
   "cell_type": "markdown",
   "metadata": {},
   "source": [
    "3. FORMAS DE PGTO REALIZADAS POR ESTADO E MUNICÍPIOS "
   ]
  },
  {
   "cell_type": "markdown",
   "metadata": {},
   "source": [
    "####################################################################"
   ]
  },
  {
   "cell_type": "markdown",
   "metadata": {},
   "source": [
    "Criados dfs somente com as colunas necessárias para a junção e obtenção do dado específico\n",
    "\n",
    "- orders_subset receberá as colunas order_id e customer_id\n",
    "\n",
    "- payment_subset receberá as colunas order_id e payment_type\n",
    "\n",
    "- customer_subset receberá as colunas customer_id, customer_city, customer_state\n",
    "\n",
    "Após a criação dos dfs que recebem as colunas específicas é realizado o MERGE dos dfs gerando um quarto df com as infromações necessárias para atender a demanda do negócio na questão 3 acima"
   ]
  },
  {
   "cell_type": "code",
   "execution_count": 17,
   "metadata": {},
   "outputs": [],
   "source": [
    "orders_subset = df_orders[['order_id', 'customer_id']]\n",
    "\n"
   ]
  },
  {
   "cell_type": "code",
   "execution_count": 18,
   "metadata": {},
   "outputs": [],
   "source": [
    "payment_subset = df_payment[['order_id', 'payment_type']]\n"
   ]
  },
  {
   "cell_type": "code",
   "execution_count": 19,
   "metadata": {},
   "outputs": [],
   "source": [
    "customer_subset = df_customers[['customer_id', 'customer_city', 'customer_state']]\n",
    "\n"
   ]
  },
  {
   "cell_type": "markdown",
   "metadata": {},
   "source": [
    "Junção dos novos dataframes (MERGE) identificando pedido x forma de pgto e localidade do cliente através do customer_subset"
   ]
  },
  {
   "cell_type": "code",
   "execution_count": 20,
   "metadata": {},
   "outputs": [],
   "source": [
    "df_orders_payment = pd.merge(orders_subset, payment_subset, on='order_id', how='inner')\n",
    "\n"
   ]
  },
  {
   "cell_type": "code",
   "execution_count": 21,
   "metadata": {},
   "outputs": [],
   "source": [
    "df_customersLocal = pd.merge(df_orders_payment, customer_subset, on='customer_id', how='inner')\n",
    "\n"
   ]
  },
  {
   "cell_type": "markdown",
   "metadata": {},
   "source": [
    "PRÓXIMO PASSO: gerar arquivo csv que será utilizado no dashboard\n"
   ]
  },
  {
   "cell_type": "code",
   "execution_count": 22,
   "metadata": {},
   "outputs": [
    {
     "name": "stdout",
     "output_type": "stream",
     "text": [
      "Arquivo  CSV criado com sucesso !!!\n"
     ]
    }
   ],
   "source": [
    "\n",
    "df_customersLocal.to_csv(\"C:\\\\Users\\\\leopo\\\\OneDrive\\\\Documentos\\\\PROJETOS TI\\\\PROJETOS_DADOS\\\\olist\\\\csv das análises realizadas\\\\Pgtos_por_Municipio_Estado.csv\", index=False, header=True)\n",
    "\n",
    "\n",
    "print('Arquivo  CSV criado com sucesso !!!')"
   ]
  },
  {
   "cell_type": "markdown",
   "metadata": {},
   "source": [
    "--------------------------------------------------------------------"
   ]
  }
 ],
 "metadata": {
  "kernelspec": {
   "display_name": "Python 3",
   "language": "python",
   "name": "python3"
  },
  "language_info": {
   "codemirror_mode": {
    "name": "ipython",
    "version": 3
   },
   "file_extension": ".py",
   "mimetype": "text/x-python",
   "name": "python",
   "nbconvert_exporter": "python",
   "pygments_lexer": "ipython3",
   "version": "3.12.0"
  }
 },
 "nbformat": 4,
 "nbformat_minor": 2
}
