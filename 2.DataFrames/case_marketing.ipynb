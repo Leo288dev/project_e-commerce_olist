{
 "cells": [
  {
   "cell_type": "code",
   "execution_count": 1,
   "metadata": {},
   "outputs": [],
   "source": [
    "import pandas as pd "
   ]
  },
  {
   "cell_type": "markdown",
   "metadata": {},
   "source": [
    "ESTUDO DE CASO ....  \n",
    "\n",
    "1. Equipe de marketing precisa de um paínel com informações por categorias mais vendidas por estado e por mês, período de pico de vendas e de vale. Munido destas informações desenvolver campanhas e planos de ação direcionado de acordo com a região. \n",
    "  "
   ]
  },
  {
   "cell_type": "markdown",
   "metadata": {},
   "source": [
    "____________________________________________________________________"
   ]
  },
  {
   "cell_type": "markdown",
   "metadata": {},
   "source": [
    "###################  CARGA DAS TABELAS ######################\n"
   ]
  },
  {
   "cell_type": "code",
   "execution_count": 18,
   "metadata": {},
   "outputs": [],
   "source": [
    "order_items = pd.read_csv(\"C:\\\\Users\\\\leopo\\\\OneDrive\\\\Documentos\\\\PROJETOS TI\\\\PROJETOS_DADOS\\\\olist\\\\brazilian-ecommerce\\\\olist_order_items_dataset.csv\")"
   ]
  },
  {
   "cell_type": "code",
   "execution_count": 7,
   "metadata": {},
   "outputs": [],
   "source": [
    "customer = pd.read_csv(\"C:\\\\Users\\\\leopo\\\\OneDrive\\\\Documentos\\\\PROJETOS TI\\\\PROJETOS_DADOS\\\\olist\\\\brazilian-ecommerce\\\\olist_customers_dataset.csv\")"
   ]
  },
  {
   "cell_type": "code",
   "execution_count": 14,
   "metadata": {},
   "outputs": [],
   "source": [
    "orders = pd.read_csv(\"C:\\\\Users\\\\leopo\\\\OneDrive\\\\Documentos\\\\PROJETOS TI\\\\PROJETOS_DADOS\\\\olist\\\\brazilian-ecommerce\\\\olist_orders_dataset.csv\")"
   ]
  },
  {
   "cell_type": "code",
   "execution_count": 37,
   "metadata": {},
   "outputs": [],
   "source": [
    "products = pd.read_csv(\"C:\\\\Users\\\\leopo\\\\OneDrive\\\\Documentos\\\\PROJETOS TI\\\\PROJETOS_DADOS\\\\olist\\\\brazilian-ecommerce\\\\olist_products_dataset.csv\")"
   ]
  },
  {
   "cell_type": "code",
   "execution_count": 70,
   "metadata": {},
   "outputs": [],
   "source": [
    "df_payment = pd.read_csv(\"C:\\\\Users\\\\leopo\\\\OneDrive\\\\Documentos\\\\PROJETOS TI\\\\PROJETOS_DADOS\\\\olist\\\\brazilian-ecommerce\\\\olist_order_payments_dataset.csv\")"
   ]
  },
  {
   "cell_type": "markdown",
   "metadata": {},
   "source": [
    "__________________________________________________________________________________________________"
   ]
  },
  {
   "cell_type": "markdown",
   "metadata": {},
   "source": [
    "COLUNAS QUE SERÃO UTILIZADAS "
   ]
  },
  {
   "cell_type": "code",
   "execution_count": 16,
   "metadata": {},
   "outputs": [],
   "source": [
    "customer_id = customer[['customer_id','customer_state']]"
   ]
  },
  {
   "cell_type": "code",
   "execution_count": 19,
   "metadata": {},
   "outputs": [],
   "source": [
    "order_item_id = order_items[['product_id', 'order_id', 'order_item_id']]"
   ]
  },
  {
   "cell_type": "code",
   "execution_count": 88,
   "metadata": {},
   "outputs": [],
   "source": [
    "orders_id = orders[['order_id','customer_id', 'order_purchase_timestamp']]"
   ]
  },
  {
   "cell_type": "code",
   "execution_count": 50,
   "metadata": {},
   "outputs": [],
   "source": [
    "products_id = products[['product_id','product_category_name']]"
   ]
  },
  {
   "cell_type": "code",
   "execution_count": 75,
   "metadata": {},
   "outputs": [],
   "source": [
    "payment_id = df_payment[['payment_type','payment_value','order_id']]"
   ]
  },
  {
   "cell_type": "markdown",
   "metadata": {},
   "source": [
    "_______________________________________________________________"
   ]
  },
  {
   "cell_type": "markdown",
   "metadata": {},
   "source": [
    "############### JUNÇÕES ##################################"
   ]
  },
  {
   "cell_type": "code",
   "execution_count": 89,
   "metadata": {},
   "outputs": [],
   "source": [
    "customer_orders_id = pd.merge(customer_id, orders_id, on='customer_id', how='inner')"
   ]
  },
  {
   "cell_type": "code",
   "execution_count": 90,
   "metadata": {},
   "outputs": [],
   "source": [
    "customer_orders_id1 = pd.merge(customer_orders_id, order_item_id,  on='order_id', how='inner' )"
   ]
  },
  {
   "cell_type": "code",
   "execution_count": 91,
   "metadata": {},
   "outputs": [],
   "source": [
    "customer_orders_id2 = pd.merge(customer_orders_id1, products_id, on='product_id', how='inner')"
   ]
  },
  {
   "cell_type": "code",
   "execution_count": 95,
   "metadata": {},
   "outputs": [
    {
     "data": {
      "text/plain": [
       "Index(['customer_id', 'customer_state', 'order_id', 'order_purchase_timestamp',\n",
       "       'product_id', 'order_item_id', 'product_category_name'],\n",
       "      dtype='object')"
      ]
     },
     "execution_count": 95,
     "metadata": {},
     "output_type": "execute_result"
    }
   ],
   "source": [
    "customer_orders_id2.columns"
   ]
  },
  {
   "cell_type": "code",
   "execution_count": 96,
   "metadata": {},
   "outputs": [],
   "source": [
    "customer_orders_id3 = pd.merge(customer_orders_id2, payment_id, on='order_id', how='inner')"
   ]
  },
  {
   "cell_type": "code",
   "execution_count": 123,
   "metadata": {},
   "outputs": [],
   "source": [
    "soma_categoria = customer_orders_id3.groupby('product_category_name')['payment_value'].sum().reset_index() "
   ]
  },
  {
   "cell_type": "markdown",
   "metadata": {},
   "source": [
    "______________________________________________________________________________________________________________________________"
   ]
  },
  {
   "cell_type": "markdown",
   "metadata": {},
   "source": [
    "************** SOMANDO VENDAS POR MÊS *********************"
   ]
  },
  {
   "cell_type": "markdown",
   "metadata": {},
   "source": [
    "Converte a coluna order_purchase_timestamp em datetime  "
   ]
  },
  {
   "cell_type": "code",
   "execution_count": 120,
   "metadata": {},
   "outputs": [],
   "source": [
    "customer_orders_id3['order_purchase_timestamp'] = pd.to_datetime(customer_orders_id3['order_purchase_timestamp'])"
   ]
  },
  {
   "cell_type": "markdown",
   "metadata": {},
   "source": [
    "Extrair o mês da coluna order_purchase_timestamp"
   ]
  },
  {
   "cell_type": "code",
   "execution_count": 121,
   "metadata": {},
   "outputs": [],
   "source": [
    "customer_orders_id3['order_month'] = customer_orders_id3['order_purchase_timestamp'].dt.month"
   ]
  },
  {
   "cell_type": "markdown",
   "metadata": {},
   "source": [
    "Agrupando pelo mês e pela categoria do produto  e somando os valores de pagamento "
   ]
  },
  {
   "cell_type": "code",
   "execution_count": 122,
   "metadata": {},
   "outputs": [],
   "source": [
    "vendas_por_mes_categoria = customer_orders_id3.groupby(['order_month', 'product_category_name'])['payment_value'].sum().reset_index()"
   ]
  },
  {
   "cell_type": "markdown",
   "metadata": {},
   "source": [
    "____________________________________________________________________________________________________________________________________________________"
   ]
  },
  {
   "cell_type": "markdown",
   "metadata": {},
   "source": [
    "CONTINUAÇÃO JUNÇÕES DATAFRAMES"
   ]
  },
  {
   "cell_type": "code",
   "execution_count": 124,
   "metadata": {},
   "outputs": [],
   "source": [
    "customer_orders_id4 = pd.merge(customer_orders_id3, soma_categoria, on='product_category_name', how='inner')"
   ]
  },
  {
   "cell_type": "markdown",
   "metadata": {},
   "source": [
    "************************** SALVANDO DATAFRAME EM CSV *********************************************************************************************"
   ]
  },
  {
   "cell_type": "code",
   "execution_count": null,
   "metadata": {},
   "outputs": [],
   "source": []
  },
  {
   "cell_type": "code",
   "execution_count": 64,
   "metadata": {},
   "outputs": [],
   "source": [
    "products_id.to_csv(\"C:\\\\Users\\\\leopo\\\\OneDrive\\\\Documentos\\\\PROJETOS TI\\\\PROJETOS_DADOS\\\\olist\\\\brazilian-ecommerce\\\\csv tratados\\\\produtos_id.csv\")"
   ]
  },
  {
   "cell_type": "code",
   "execution_count": 125,
   "metadata": {},
   "outputs": [],
   "source": [
    "customer_orders_id4.to_csv(\"C:\\\\Users\\\\leopo\\\\OneDrive\\\\Documentos\\\\PROJETOS TI\\\\PROJETOS_DADOS\\\\olist\\\\brazilian-ecommerce\\\\csv tratados\\\\total_case_marketing.csv\")"
   ]
  },
  {
   "cell_type": "code",
   "execution_count": 126,
   "metadata": {},
   "outputs": [],
   "source": [
    "vendas_por_mes_categoria.to_csv(\"C:\\\\Users\\\\leopo\\\\OneDrive\\\\Documentos\\\\PROJETOS TI\\\\PROJETOS_DADOS\\\\olist\\\\brazilian-ecommerce\\\\csv tratados\\\\total_case_marketing_vendas_mes_categoria.csv\")"
   ]
  }
 ],
 "metadata": {
  "kernelspec": {
   "display_name": "Python 3",
   "language": "python",
   "name": "python3"
  },
  "language_info": {
   "codemirror_mode": {
    "name": "ipython",
    "version": 3
   },
   "file_extension": ".py",
   "mimetype": "text/x-python",
   "name": "python",
   "nbconvert_exporter": "python",
   "pygments_lexer": "ipython3",
   "version": "3.12.0"
  }
 },
 "nbformat": 4,
 "nbformat_minor": 2
}
